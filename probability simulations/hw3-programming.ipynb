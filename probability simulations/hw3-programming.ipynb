{
 "cells": [
  {
   "cell_type": "markdown",
   "metadata": {},
   "source": [
    "# CS 237: Homework 3 Programming Exercise\n"
   ]
  },
  {
   "cell_type": "code",
   "execution_count": 1,
   "metadata": {},
   "outputs": [],
   "source": [
    "# Jupyter notebook specific \n",
    "from IPython.display import Image\n",
    "from IPython.core.display import HTML \n",
    "from IPython.display import display_html\n",
    "from IPython.display import display\n",
    "from IPython.display import Math\n",
    "from IPython.display import Latex\n",
    "from IPython.display import HTML\n",
    "\n",
    "import numpy as np                # arrays and functions which operate on array\n",
    "import matplotlib.pyplot as plt   # normal plotting\n",
    "\n",
    "from numpy.random import seed, randint, uniform\n",
    "from collections import Counter"
   ]
  },
  {
   "cell_type": "markdown",
   "metadata": {},
   "source": [
    "# Polling\n",
    "\n",
    "It's an exciting time on Mars. Bruston University, in the martian state of Marsachusetts, needs to elect a new president. In a somewhat surprising turn of events, the martians, notoriously very democratic people, decided to let the students vote directly for one of the two candidates. The candidate with the higher number of student votes will be elected. One of the candidates, Rhett the Terrestrial Terrier, is going to give away free bagels every week, while the other candidate, Bob Blue, is planning to increase tuition fees for all the students. You want to poll the students to find out who they will vote for, and predict the outcome of the election.\n",
    "\n",
    "We will do several experiments as outlined below. For all the experiments, include your code, its output, and a brief comment on the result. Add new code and markdown cells to the notebook as neeed."
   ]
  },
  {
   "cell_type": "markdown",
   "metadata": {},
   "source": [
    "## Experiment 1\n",
    "\n",
    "In this experiment, we will assume that 52\\% of the students want to vote for Rhett and 48\\% want to vote for Bob Blue.\n",
    "\n",
    "First simulate the result of polling 100 students. Do you find that you can reliably predict the result of the election this way? On average, how many times do you get it wrong? What happens if you poll 1000 students instead?"
   ]
  },
  {
   "cell_type": "code",
   "execution_count": 2,
   "metadata": {},
   "outputs": [
    {
     "name": "stdout",
     "output_type": "stream",
     "text": [
      "Final results when polling 100 students with split 52-48 is {'rhett': 6225, 'blue': 3775}\n",
      "Probability of successful elections when polling 100 students with split 52-48 is 0.6225\n",
      "Probability of unsuccessful elections when polling 100 students with split 52-48 is 0.3775\n",
      "\n",
      "Final results when polling 1000 students with split 52-48 is {'rhett': 8917, 'blue': 1083}\n",
      "Probability of successful elections when polling 1000 students with split 52-48 is 0.8917\n",
      "Probability of unsuccessful elections when polling 1000 students with split 52-48 is 0.1083\n"
     ]
    }
   ],
   "source": [
    "def poll1(n_students, n_trials=10000):\n",
    "    \"\"\"\n",
    "    Takes as input the number of students to poll and number of trials to run\n",
    "    prints out the probability of success and failure of simulation given 52-48% split\n",
    "    \"\"\"\n",
    "    choices=['rhett', 'blue']\n",
    "    final_results= {'rhett':0, 'blue':0}\n",
    "    success=0\n",
    "    not_success=0\n",
    "    for i in range(n_trials):\n",
    "        #uses random.choice to choose 1 of 2 options with probability 0.52 for rhett and 0.48 for blue\n",
    "        #generates an array of length number of students of such choices\n",
    "        poll=np.random.choice(choices,n_students, p=[0.52, 0.48])\n",
    "        results = Counter(poll)\n",
    "        #if there are more votes for rhett then for blue we consider this a success\n",
    "        if results['rhett']>results['blue']:\n",
    "            success+=1\n",
    "            final_results['rhett']+=1\n",
    "        else:\n",
    "            not_success+=1\n",
    "            final_results['blue']+=1\n",
    "    \n",
    "    print(\"Final results when polling \" + str(n_students)+\" students with split 52-48 is \"+ str(final_results))\n",
    "    print(\"Probability of successful elections when polling \"+str(n_students) + \" students with split 52-48 is \" + str(success/n_trials))\n",
    "    print(\"Probability of unsuccessful elections when polling \"+ str(n_students)+\" students with split 52-48 is \" +str(not_success/n_trials))\n",
    "   \n",
    "\n",
    "poll1(100)\n",
    "print()\n",
    "poll1(1000)\n"
   ]
  },
  {
   "cell_type": "markdown",
   "metadata": {},
   "source": [
    "**Your comments:** The results are not very reliable when we poll 100 students because on average we fail about 38% of the time which is a very high level of uncertainty.  When polling 1000 students the level of certainty increases considerably although there still is about 11% failure which can be seen as significant. So we see that as the sample polled increased from 100 to 1000 students the probability of failure went down from about 39% to about 11% but it still remains rather significant if we consider 5% to be the target failure. In fact in my simulations, samples of size greater than 1500  will predict the results of this election within the 5% margins of error."
   ]
  },
  {
   "cell_type": "markdown",
   "metadata": {},
   "source": [
    "## Experiment 2\n",
    "\n",
    "In this experiment, we will assume that the split is 51\\%-49\\%. Try polling 1000, 2000 and 3000 students at a time with this new split."
   ]
  },
  {
   "cell_type": "code",
   "execution_count": 3,
   "metadata": {},
   "outputs": [
    {
     "name": "stdout",
     "output_type": "stream",
     "text": [
      "Final results when polling 1000 students with split 51-49 is {'rhett': 7241, 'blue': 2759}\n",
      "Probability of successful elections when polling 1000 students with split 51-49 is 0.7241\n",
      "Probability of unsuccessful elections when polling 1000 students with split 51-49 is 0.2759\n",
      "\n",
      "Final results when polling 2000 students with split 51-49 is {'rhett': 8107, 'blue': 1893}\n",
      "Probability of successful elections when polling 2000 students with split 51-49 is 0.8107\n",
      "Probability of unsuccessful elections when polling 2000 students with split 51-49 is 0.1893\n",
      "\n",
      "Final results when polling 3000 students with split 51-49 is {'rhett': 8544, 'blue': 1456}\n",
      "Probability of successful elections when polling 3000 students with split 51-49 is 0.8544\n",
      "Probability of unsuccessful elections when polling 3000 students with split 51-49 is 0.1456\n"
     ]
    }
   ],
   "source": [
    "def poll2(n_students, n_trials=10000):\n",
    "    \"\"\"\n",
    "    Takes as input the number of students to poll and number of trials to run\n",
    "    prints out the probability of success and failure of simulation given 51-49% split\n",
    "    \"\"\"\n",
    "    choices=['rhett', 'blue']\n",
    "    final_results= {'rhett':0, 'blue':0}\n",
    "    success=0\n",
    "    not_success=0\n",
    "    for i in range(n_trials):\n",
    "        #uses random.choice to choose 1 of 2 options with probability 0.51 for rhett and 0.49 for blue\n",
    "        #generates an array of length number of students of such choices\n",
    "        poll=np.random.choice(choices,n_students, p=[0.51, 0.49])\n",
    "        results = Counter(poll)\n",
    "        #if there are more votes for rhett then for blue we consider this a success\n",
    "        if results['rhett']>results['blue']:\n",
    "            success+=1\n",
    "            final_results['rhett']+=1\n",
    "        else:\n",
    "            not_success+=1\n",
    "            final_results['blue']+=1\n",
    "    \n",
    "    print(\"Final results when polling \" + str(n_students)+\" students with split 51-49 is \"+ str(final_results))\n",
    "    print(\"Probability of successful elections when polling \"+str(n_students) + \" students with split 51-49 is \" + str(success/n_trials))\n",
    "    print(\"Probability of unsuccessful elections when polling \"+ str(n_students)+\" students with split 51-49 is \" +str(not_success/n_trials))\n",
    "   \n",
    "\n",
    "poll2(1000)\n",
    "print()\n",
    "poll2(2000)\n",
    "print()\n",
    "poll2(3000)"
   ]
  },
  {
   "cell_type": "markdown",
   "metadata": {},
   "source": [
    "**Your comments:** Here we see that there is greater uncertainity in the results than we saw in the previous experiment, probably due to the fact that the split is much closer. Based on my simulations there was about a 28% failure when polling 1000 students, about a 19% failure when polling 2000 students and about 14% failure when polling  3000 students. We can see that as the sample size increases the probability of failure goes down considerably but much slower than in the previous experiment due to the fact that the split here is very close and even after polling 3000 students we have a failure rate of about 15%. We observe that in order to have a reliable result (<5% failure) it is important to poll more people than just 3000. In fact in my simulations, samples of size greater than 6000 will predict the results of this election within the 5% margins of error."
   ]
  },
  {
   "cell_type": "markdown",
   "metadata": {},
   "source": [
    "Side remark: you can find out how many samples the Gallup polls use [here](https://www.gallup.com/224855/gallup-poll-work.aspx)."
   ]
  }
 ],
 "metadata": {
  "kernelspec": {
   "display_name": "Python 3",
   "language": "python",
   "name": "python3"
  },
  "language_info": {
   "codemirror_mode": {
    "name": "ipython",
    "version": 3
   },
   "file_extension": ".py",
   "mimetype": "text/x-python",
   "name": "python",
   "nbconvert_exporter": "python",
   "pygments_lexer": "ipython3",
   "version": "3.7.1"
  }
 },
 "nbformat": 4,
 "nbformat_minor": 2
}
