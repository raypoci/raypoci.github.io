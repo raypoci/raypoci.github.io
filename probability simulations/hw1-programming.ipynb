{
 "cells": [
  {
   "cell_type": "markdown",
   "metadata": {},
   "source": [
    "# CS 237: Homework 1 Programming Exercises"
   ]
  },
  {
   "cell_type": "code",
   "execution_count": 4,
   "metadata": {},
   "outputs": [],
   "source": [
    "# Here are some imports which will be used in the code in the rest of the notebook\n",
    "\n",
    "# Jupyter notebook specific \n",
    "from IPython.display import Image\n",
    "from IPython.core.display import HTML \n",
    "from IPython.display import display_html\n",
    "from IPython.display import display\n",
    "from IPython.display import Math\n",
    "from IPython.display import Latex\n",
    "from IPython.display import HTML\n",
    "\n",
    "import numpy as np                # arrays and functions which operate on array\n",
    "import matplotlib.pyplot as plt   # normal plotting\n",
    "\n",
    "from numpy.random import seed, randint, uniform\n",
    "from collections import Counter"
   ]
  },
  {
   "cell_type": "markdown",
   "metadata": {},
   "source": [
    "# Exercise 1 \n",
    "Read and understand the function $\\texttt{dieRoll(n_trials)}$ below, which simulates the experiment of rolling a fair, six-sided die $\\texttt{n_trials}$ times. \n",
    "- The sample space is $\\{1,2,3,4,5,6\\}$. \n",
    "- The experiment is equi-probable, i.e., the probability of any particular outcome is $\\frac{1}{6}$.\n",
    "- If we record the outcome for a large number of experiments, we would expect the number of outcomes to be evenly distributed. In other words, for a large number of trials, we would expect $$\\frac{\\text{number of times we observed a } k}{\\texttt{n_trials}} \\approx \\frac{1}{6}$$ for $k\\in \\{1,2,3,4,5,6\\}$\n",
    "\n",
    "TO DO: For this first exercise, simply provide the single line of Python code which would display a histogram of the results of the experiment for 10000 trials with appropriate labels.  "
   ]
  },
  {
   "cell_type": "code",
   "execution_count": 5,
   "metadata": {},
   "outputs": [
    {
     "data": {
      "image/png": "[encoded data removed]",
      "text/plain": [
       "<Figure size 432x288 with 1 Axes>"
      ]
     },
     "metadata": {
      "needs_background": "light"
     },
     "output_type": "display_data"
    }
   ],
   "source": [
    "def roll_die(n_trials = 10000, seed=-1):\n",
    "    \"\"\"\n",
    "    - Simulates rolling a fair die n_trials times, i.e., a number is selected from \n",
    "    - (1,2,3,4,5,6) with equal probability n_trials times. By default, n_trials is set to 10000\n",
    "    - randint(a,b) uniformly and randomly selects an  integer x such that a<= x < b\n",
    "    - The second argument for randint determines the shape and size of the result array. In this case, we only need\n",
    "    - a one dimensional array (a list)\n",
    "    \"\"\"\n",
    "    trials_and_results = randint(1,7,(n_trials)) # this creates a 1D array of length n_trials of random integers 1..6\n",
    "    return trials_and_results\n",
    "\n",
    "example_trials = roll_die() \n",
    "plt.hist(example_trials,bins=[0.5,1.5,2.5,3.5,4.5,5.5,6.5],edgecolor='black')\n",
    "plt.title('Fair Die Simulation Histogram')\n",
    "plt.xlabel(\"Outcomes\")\n",
    "plt.ylabel(\"Frequency\")\n",
    "plt.show()\n"
   ]
  },
  {
   "cell_type": "code",
   "execution_count": 3,
   "metadata": {},
   "outputs": [],
   "source": [
    "# Solution:   For each exercise, you should add a cell and provide your code solution"
   ]
  },
  {
   "cell_type": "markdown",
   "metadata": {},
   "source": [
    "# Exercise 2 \n",
    "\n",
    "Now we will display the same results showing the distribution of probabilities, instead of an explicit histogram.\n",
    "- To calculate the probabilities, you will need to count the number of occurrences of each of the outcomes, you may find the function Counter(...) useful for this (Google \"numpy Counter\" to find out how this works); \n",
    "- Once you have the frequency of each outcome, divide by the total number of trials to get the probability for each.\n",
    "\n",
    "TO DO:  Complete the function stub below which takes the list returned by roll_die(...), or any other experiment returning numerical results, and produces a frequency distribution; this should have the same shape as the histogram, but the Y axis will be probabilities instead of the frequency. Again, create appropriate labels. Demonstrate your function, again, on the list example_trials produced in Exercise 1. "
   ]
  },
  {
   "cell_type": "code",
   "execution_count": 2,
   "metadata": {},
   "outputs": [
    {
     "ename": "NameError",
     "evalue": "name 'example_trials' is not defined",
     "output_type": "error",
     "traceback": [
      "\u001b[1;31m---------------------------------------------------------------------------\u001b[0m",
      "\u001b[1;31mNameError\u001b[0m                                 Traceback (most recent call last)",
      "\u001b[1;32m<ipython-input-2-2737a1d28f78>\u001b[0m in \u001b[0;36m<module>\u001b[1;34m\u001b[0m\n\u001b[0;32m     26\u001b[0m \u001b[1;33m\u001b[0m\u001b[0m\n\u001b[0;32m     27\u001b[0m \u001b[1;33m\u001b[0m\u001b[0m\n\u001b[1;32m---> 28\u001b[1;33m \u001b[0mshow_distribution\u001b[0m\u001b[1;33m(\u001b[0m\u001b[0mexample_trials\u001b[0m\u001b[1;33m,\u001b[0m\u001b[0mtitle\u001b[0m\u001b[1;33m=\u001b[0m\u001b[1;34m'Probability Distribution for Single Die Toss'\u001b[0m\u001b[1;33m)\u001b[0m\u001b[1;33m\u001b[0m\u001b[1;33m\u001b[0m\u001b[0m\n\u001b[0m",
      "\u001b[1;31mNameError\u001b[0m: name 'example_trials' is not defined"
     ]
    }
   ],
   "source": [
    "def show_distribution(results, title='Probability Distribution'):\n",
    "    \"\"\"\n",
    "    - Takes a list of numerical outcomes and displays a distribution of the probabilities\n",
    "    \"\"\"\n",
    "    \n",
    "    dic = Counter(results)\n",
    "    keys = sorted(dic.keys())\n",
    "    values = np.zeros(len(keys))\n",
    "    n_trials = sum(dic.values())\n",
    "\n",
    "    for i in range(len(keys)):\n",
    "        values[i]= dic[keys[i]]/n_trials\n",
    "                \n",
    "    labels = []\n",
    "  \n",
    "    for key in keys:\n",
    "        labels.append(str(key))\n",
    "   \n",
    "    plt.xticks(keys, labels)\n",
    "    plt.hist(keys,values, width=1, edgecolor='black')\n",
    "    plt.title(title)\n",
    "    plt.ylabel(\"Probability\")\n",
    "    plt.xlabel(\"Outcomes\")\n",
    "    plt.show()\n",
    "    \n",
    "    \n",
    "\n",
    "show_distribution(example_trials,title='Probability Distribution for Single Die Toss')"
   ]
  },
  {
   "cell_type": "markdown",
   "metadata": {},
   "source": [
    "# Motivation for simulation\n",
    "For the case of a fair die, the distribution is very easily computed. In general, it is very difficult to write down a closed form solution for the distribution of real world events. This is where simulation comes into play-- instead of  mathematically computing the distribution explicitly, you can use this method of repeating experiments, and recording outcomes to understand the probabilistic rules governing some real world event. When you can come up with an analytical result, this is a nice way of confirming its correctness!"
   ]
  },
  {
   "cell_type": "markdown",
   "metadata": {},
   "source": [
    "# Exercise 3\n",
    "You will now do the same thing you did in the previous exercises, but with a new experiment: instead of rolling one die and recording the value, you will simulate rolling $n$ dies and recording their sum. For example, if $n=2$ and  the first die shows up as a 3, and the second die shows up as a 1, the sum (and the value we record) would be 4. \n",
    "\n",
    "TO DO:  Complete the two functions stubs below and then demonstrate by providing the single line of code which would print out the probability distribution for rolling 2 dice 10,000 times. "
   ]
  },
  {
   "cell_type": "code",
   "execution_count": 24,
   "metadata": {},
   "outputs": [
    {
     "data": {
      "image/png": "[encoded data removed]",
      "text/plain": [
       "<Figure size 432x288 with 1 Axes>"
      ]
     },
     "metadata": {
      "needs_background": "light"
     },
     "output_type": "display_data"
    }
   ],
   "source": [
    "# Hint, use help() on randint or Google!\n",
    "# You can generate random lists of numbers with one line of code\n",
    "# This function should look very similar to rollDie()\n",
    "\n",
    "def roll_and_add_dice(n_dice ,n_trials = 10000):\n",
    "    \"\"\"\n",
    "    - Perform the trials\n",
    "    - randint(a,b) uniformly and randomly selects an  integer x such that a<= x < b\n",
    "    - The second argument determins the shape of the result. In this case, we only need\n",
    "    - a one dimensional array ( a list)\n",
    "    \"\"\"\n",
    "    result = []\n",
    "    dice_sum = 0\n",
    "    for trials in range(n_trials):\n",
    "        arr = randint(1,7,(n_dice))\n",
    "        dice_sum = np.sum(arr) \n",
    "        result.append(dice_sum)\n",
    "        dice_sum= 0\n",
    "    return result\n",
    "\n",
    "trial_and_result= roll_and_add_dice(2)\n",
    "show_distribution(trial_and_result,title='Probability Distribution for 2 Die Tosses')\n",
    "\n",
    "\n",
    "# Now use show_distribution to display results"
   ]
  },
  {
   "cell_type": "markdown",
   "metadata": {
    "collapsed": true
   },
   "source": [
    "# Exercise 4\n",
    "\n",
    "TO DO:  For the final exercise, provide code which will display the probability distribution for the experiment of running the \"flip a coin until you get a head\" experiment 10,000 times."
   ]
  },
  {
   "cell_type": "code",
   "execution_count": 11,
   "metadata": {},
   "outputs": [
    {
     "name": "stdout",
     "output_type": "stream",
     "text": [
      "[ 1  2  3  4  5  6  7  8  9 10 11 12 13 14]\n"
     ]
    },
    {
     "data": {
      "image/png": "[encoded data removed]",
      "text/plain": [
       "<Figure size 432x288 with 1 Axes>"
      ]
     },
     "metadata": {
      "needs_background": "light"
     },
     "output_type": "display_data"
    }
   ],
   "source": [
    "# returns true if flip of fair coin is heads\n",
    "\n",
    "def fair_coin_flip():\n",
    "    return (randint(0,2) == 1)\n",
    "\n",
    "# return the number of flips until you get a head; minimum is 1 and there is no upper bound\n",
    "def flip_coin_until_heads():\n",
    "    counter = 1\n",
    "    result = []\n",
    "    \n",
    "    for trial in range(10000):\n",
    "        while(fair_coin_flip()==False):\n",
    "            counter+=1\n",
    "        result.append(counter)\n",
    "        counter=1\n",
    "    return result\n",
    "\n",
    "trial_and_result= flip_coin_until_heads()\n",
    "show_distribution(trial_and_result,title='Probability Distribution for Number of Coin Flips Until Head')\n",
    "\n"
   ]
  },
  {
   "cell_type": "code",
   "execution_count": null,
   "metadata": {},
   "outputs": [],
   "source": []
  }
 ],
 "metadata": {
  "kernelspec": {
   "display_name": "Python 3",
   "language": "python",
   "name": "python3"
  },
  "language_info": {
   "codemirror_mode": {
    "name": "ipython",
    "version": 3
   },
   "file_extension": ".py",
   "mimetype": "text/x-python",
   "name": "python",
   "nbconvert_exporter": "python",
   "pygments_lexer": "ipython3",
   "version": "3.7.1"
  }
 },
 "nbformat": 4,
 "nbformat_minor": 2
}
