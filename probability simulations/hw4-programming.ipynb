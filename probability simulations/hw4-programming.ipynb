{
 "cells": [
  {
   "cell_type": "markdown",
   "metadata": {},
   "source": [
    "# CS 237: Homework 4 Programming Exercises\n",
    "\n",
    "The Monty Hall problem is a classical example in probability that we discuss in more detail below. We will study a generalized version of the problem in which there are N doors and the host opens K doors (in the original problem, N = 3 and K = 1, but the game works for more general situations). The goal is to use simulation to determine which is the better strategy: switch or stay?"
   ]
  },
  {
   "cell_type": "markdown",
   "metadata": {},
   "source": [
    "## The Monty Hall problem\n",
    "\n",
    "The Monty Hall problem is loosely based on the game show Let's Make a Deal from the 1960s, hosted by Monty Hall. The problem became famous when a reader asked the following question in Marilyn vos Savant \"Ask Marilyn\" column in Parade magazine:\n",
    "\n",
    "\"Suppose you're on a game show, and you're given the choice of three doors: Behind one door is a car; behind the others, goats. You pick a door, say No. 1, and the host, who knows what's behind the doors, opens another door, say No. 3, which has a goat. He then says to you, 'Do you want to pick door No. 2?' Is it to your advantage to switch your choice?\"\n",
    "\n",
    "In order to answer the question, we will need to make some assumptions. The standard ones are the following:\n",
    "\n",
    "* The car is equally likely to be hidden behind each of the three doors.\n",
    "* The player is equally likely to pick each of the three doors, regardless of the car’s location.\n",
    "* After the player picks a door, the host must open a different door with a goat behind it and offer the player the choice of staying with the original door or switching.\n",
    "* If the host has a choice of which door to open, then he is equally likely to select each of them.\n",
    "\n",
    "Using a tree diagram, we can see that, under these assumptions, contestants who switch have a 2/3 probability of winning the car. This is also the anwer that vos Savant gave in her column. This problem is a famous probability puzzle because many people get it wrong. Quoting this Wikipedia [article](https://en.wikipedia.org/wiki/Monty_Hall_problem):\n",
    "\n",
    "\"Many readers of vos Savant's column refused to believe switching is beneficial despite her explanation. After the problem appeared in Parade, approximately 10,000 readers, including nearly 1,000 with PhDs, wrote to the magazine, most of them claiming vos Savant was wrong. Even when given explanations, simulations, and formal mathematical proofs, many people still do not accept that switching is the best strategy. Paul Erdős, one of the most prolific mathematicians in history, remained unconvinced until he was shown a computer simulation demonstrating the predicted result.\""
   ]
  },
  {
   "cell_type": "markdown",
   "metadata": {},
   "source": [
    "## The generalized Monty Hall problem\n",
    "\n",
    " The game is played as follows:\n",
    "- There are $N$ doors for $N\\ge3$.\n",
    "- Behind exactly one of the doors is a prize (e.g., a car).\n",
    "- The goal of the game is to select the door with the prize behind it. \n",
    "- Once you have made a selection, the host, who knows where the prize is, will open  $K$ doors, for $1\\le K\\le N-2$, that you did not select, and that do not contain the prize.  \n",
    "- You are then given the option to  pick a new door. The goal of this first section is to determine whether or not you should swap doors by using numpy to simulate this game. \n",
    "\n",
    "We will break this game up into a sequence of exercises."
   ]
  },
  {
   "cell_type": "code",
   "execution_count": 1,
   "metadata": {},
   "outputs": [],
   "source": [
    "# Jupyter notebook specific \n",
    "from IPython.display import Image\n",
    "from IPython.core.display import HTML \n",
    "from IPython.display import display_html\n",
    "from IPython.display import display\n",
    "from IPython.display import Math\n",
    "from IPython.display import Latex\n",
    "from IPython.display import HTML\n",
    "\n",
    "# General useful imports\n",
    "import numpy as np\n",
    "from numpy import arange,linspace\n",
    "import matplotlib.pyplot as plt  \n",
    "from numpy.random import seed, randint, uniform, choice, shuffle\n",
    "from collections import Counter\n",
    "import pandas as pd\n",
    "%matplotlib inline"
   ]
  },
  {
   "cell_type": "markdown",
   "metadata": {},
   "source": [
    "## Exercise 1\n",
    " - We will use the randint function from the numpy library to simulate selecting a door uniformly at random.\n",
    " - You may assume that for $N\\in\\mathbb{N}, N\\geq 3$ doors, their numbers are $0,1,\\ldots, N-1$.\n",
    " - Finish the stub for the code that initializes the game.\n",
    " - This function should return a pair <code>(doors,winning_door)</code> where\n",
    "- doors is a 1D array of length <code>number_of_doors</code>, where exactly one of the elements is a 1 (the winning door), and the rest are 0 (the losing doors)\n",
    "- winning_door is the index of the winning door\n",
    "    \n",
    "For example, if the array is [0,0,1], then the winning door is at index 2, while the losing doors are at 0,1, and the function would return ([0,0,1],2)"
   ]
  },
  {
   "cell_type": "code",
   "execution_count": 2,
   "metadata": {},
   "outputs": [],
   "source": [
    "def select_door(number_of_doors):\n",
    "    return randint(number_of_doors)\n",
    "\n",
    "def initialize_game(number_doors):\n",
    "    doors = np.zeros(number_doors)         \n",
    "    winning_door = select_door(number_doors)\n",
    "    doors[winning_door] = 1\n",
    "    return (doors,winning_door)\n"
   ]
  },
  {
   "cell_type": "markdown",
   "metadata": {},
   "source": [
    "## Exercise 2\n",
    "After the game is initialized (exercise 1), the player will choose a door (this will be done in exercise 4). Next, the host will open one or more doors, which we will simulate in this exercise.  You must write a function <code>open_doors</code> which takes\n",
    "\n",
    " - doors: the list generated from <code>initialize_game</code>\n",
    " - ignore_doors: a list of doors (indices into the doors array) to exclude (i.e., the door selected by the player, and the winning door) and \n",
    " - num_doors_to_open\n",
    "\n",
    "You must randomly generate a list of doors (opened_doors) that the host opens; these must be chosen from doors that are NOT in the list ignore_doors. The function returns a pair <code>(opened_doors, remaining_doors)</code>, where\n",
    " - opened_doors is an array containing the indices of all doors opened. \n",
    " - remaining_doors is an array of possible doors that were not in fact opened. \n",
    " \n",
    "Basically, the game enters this function with doors separated into doors that can not be opened by the host, and doors that the host can possibly open; the game leaves this function with a partition into three subsets: doors which must be ignored, doors randomly opened by the host, and all others. This last group is the set of doors that the player could switch to.\n",
    "\n",
    "In the case that there are 3 doors, the function should be deterministic for a fixed array. "
   ]
  },
  {
   "cell_type": "code",
   "execution_count": 3,
   "metadata": {},
   "outputs": [],
   "source": [
    "def open_doors(doors, ignore_doors, num_doors_to_open):\n",
    "    opened_door=[]\n",
    "    remaining_doors=[]\n",
    "    choice_doors=[]\n",
    "    if len(doors == 3):\n",
    "        if len(ignore_doors)==2:\n",
    "            for k in range(3):\n",
    "                if k not in ignore_doors:\n",
    "                    opened_door.append(k)\n",
    "                    break\n",
    "        else:\n",
    "            for k in range(3):\n",
    "                if k not in ignore_doors:\n",
    "                    choice_doors.append(k)\n",
    "            opened_door=choice(choice_doors, replace=False, size=1)\n",
    "            for k in range(3):\n",
    "                if k not in opened_door and k not in ignore_doors:\n",
    "                    remaining_doors.append(k)\n",
    "    else:\n",
    "        for i in range(len(doors)):\n",
    "            if i not in ignore_doors:\n",
    "                choice_doors.append(i)\n",
    "\n",
    "        opened_door =choice(choice_doors, replace=False, size= num_doors_to_open)\n",
    "\n",
    "        for j in range(len(doors)):\n",
    "            if j not in opened_door and j not in ignore_doors:\n",
    "                remaining_doors.append(j)\n",
    "    return opened_door, remaining_doors\n",
    "\n"
   ]
  },
  {
   "cell_type": "markdown",
   "metadata": {},
   "source": [
    "## Exercise 3\n",
    "Now that the game has been initialized, and the host has opened a door, complete the code stub below.\n",
    "\n",
    "The function new_door_choice should take as input:\n",
    "    - swap_behavior: the strategy the player uses encoded as an integer:\n",
    "        - Always trade (0): the player will trade no matter what, and randomly select a remaining door. \n",
    "        - Never trade (1): the player will always keep their initial choice.\n",
    "        - Randomly trade (2): the player tosses a fair coin:\n",
    "            - if heads, he trades his door;\n",
    "            - if tails, he keeps his current choice.\n",
    "    - current_door: the door currently selected by the player, and \n",
    "    - rem_doors: a list of the doors the player can choose from if he decides to trade. \n",
    " \n",
    "The function should return the index at which the newly selected door is located.\n"
   ]
  },
  {
   "cell_type": "code",
   "execution_count": 4,
   "metadata": {},
   "outputs": [],
   "source": [
    "def new_door_choice(swap_behavior, current_door, rem_doors):\n",
    "    if swap_behavior==0:\n",
    "        if len(rem_doors)==1:\n",
    "            current_door=rem_doors[0]\n",
    "        else:\n",
    "            index= select_door(len(rem_doors))\n",
    "            current_door= rem_doors[index]\n",
    "    elif swap_behavior==2:\n",
    "        to_choose = select_door(2)\n",
    "        if to_choose==1:\n",
    "            if len(rem_doors)==1:\n",
    "                current_door=rem_doors[0]\n",
    "            else:\n",
    "                index= select_door(len(rem_doors))\n",
    "                current_door= rem_doors[index]\n",
    "    return current_door\n"
   ]
  },
  {
   "cell_type": "markdown",
   "metadata": {},
   "source": [
    "## Exercise 4: Putting it all together\n",
    "- Implement the function below to simulate playing 1 round of the Monty Hall game\n",
    "- It should first initialize the doors\n",
    "- Then select the players choice\n",
    "- The host will then open one or more doors\n",
    "- Finally, the player either keeps his door or trades\n",
    "- The function should return a boolean value:\n",
    "    - True if the player won the prize\n",
    "    - False if he doesn't"
   ]
  },
  {
   "cell_type": "code",
   "execution_count": 5,
   "metadata": {},
   "outputs": [],
   "source": [
    "def game( swap_behavior = 0,   num_doors=3, num_doors_to_open=1):\n",
    "    doors, winning_door = initialize_game(num_doors)\n",
    "    player_choice = select_door(num_doors)\n",
    "    if (player_choice != winning_door):\n",
    "        ignore_doors = [player_choice, winning_door]\n",
    "    else:\n",
    "        ignore_doors = [player_choice]\n",
    "    opened_door, remaining_doors = open_doors(doors, ignore_doors, num_doors_to_open)\n",
    "    if (winning_door != player_choice):\n",
    "        remaining_doors.append(winning_door)\n",
    "    picked_door = new_door_choice(swap_behavior, player_choice, remaining_doors)\n",
    "    \n",
    "    return picked_door==winning_door\n",
    "\n",
    "# Hint: once implemented, uncomment this next line to test\n",
    "#Counter([game(swap_behavior=1) for i in range(1000)])\n"
   ]
  },
  {
   "cell_type": "markdown",
   "metadata": {},
   "source": [
    "## Exercise 5(a)\n",
    "- Simulate playing the game 10,000 times for each strategy with 3 doors, and 1 opened door\n",
    "- Display a histogram to determine which strategy has the highest chance of winning (code provided for you below)\n",
    "- To do this, build a function to determine the probability of winning for each of the three strategies\n",
    "Note if you do not use numpy, this next step will take a long time."
   ]
  },
  {
   "cell_type": "code",
   "execution_count": 6,
   "metadata": {},
   "outputs": [
    {
     "data": {
      "image/png": "[encoded data removed]",
      "text/plain": [
       "<Figure size 432x288 with 1 Axes>"
      ]
     },
     "metadata": {
      "needs_background": "light"
     },
     "output_type": "display_data"
    }
   ],
   "source": [
    "# return the probability of success using the given strategy\n",
    "def simulate_with_strategy( swap_behavior = 0,   num_doors=3, num_doors_to_open=1 ,N=10000):\n",
    "    dic = Counter([game(swap_behavior, num_doors, num_doors_to_open) for i in range(N)]) \n",
    "    return dic[True]/N\n",
    "\n",
    "# Don't touch the rest of this cell unless you know what you are doing\n",
    "strategy_map = {0: \"Always Trade\", 1: \"Never Trade\", 2: \"Randomly Trade\"}\n",
    "\n",
    "def evaluate_strategy(num_doors=3, num_doors_to_open=1 ,N=10000):\n",
    "    success = { }\n",
    "    for i in range(3):\n",
    "        success[ strategy_map[i]] = simulate_with_strategy(swap_behavior=i,\n",
    "                                           num_doors=num_doors, num_doors_to_open=num_doors_to_open, N=N)\n",
    "           \n",
    "    df = pd.DataFrame.from_dict( success, orient='index')\n",
    "    # results \n",
    "    df.plot.bar()\n",
    "    plt.title(\"Probability of Success with \" + str(num_doors)+ \" doors and \" + str(num_doors_to_open) + \" doors opened\" )\n",
    "    plt.xlabel(\"Strategy\")\n",
    "    plt.ylabel(\"Success\")\n",
    "    plt.show()\n",
    "\n",
    "evaluate_strategy()\n"
   ]
  },
  {
   "cell_type": "markdown",
   "metadata": {},
   "source": [
    "The experiment conforms with the prediction made by the tree method. We see that the probability of success for Always Trade is about 2/3 while the probability for success of Never Trade is about 1/3. Unsurprisingly the strategy of Randomly Trading has a probability of success about 0.5."
   ]
  },
  {
   "cell_type": "markdown",
   "metadata": {
    "collapsed": true
   },
   "source": [
    "## Exercise 5(b)\n",
    "Use your solution to the previous exercise to determine what happens as the number of doors is large (say 1000) and the number of doors opened is small (say 1)\n",
    "- Use N=1000\n",
    "\n",
    "Warning: This will take a minute or so to run!"
   ]
  },
  {
   "cell_type": "code",
   "execution_count": 7,
   "metadata": {},
   "outputs": [
    {
     "data": {
      "image/png": "[encoded data removed]",
      "text/plain": [
       "<Figure size 432x288 with 1 Axes>"
      ]
     },
     "metadata": {
      "needs_background": "light"
     },
     "output_type": "display_data"
    }
   ],
   "source": [
    "evaluate_strategy(num_doors=1000, num_doors_to_open=1 ,N=1000)"
   ]
  },
  {
   "cell_type": "markdown",
   "metadata": {},
   "source": [
    "We see that as the number of doors gets very large while the doors to open remain at 1 the probability of success for strategy Always Trade approaches 1 while probability of success for strategy Never Trade quickly approaches 0. The probability of success for strategy Randomly Trade remains at about 0.5 as in the previous case with 3 doors. Clearly Always Trade seems to be the best strategy"
   ]
  },
  {
   "cell_type": "markdown",
   "metadata": {},
   "source": [
    "## Exercise 5(c)\n",
    "As in the previous exercise, use the evaluate_strategy function to determine what happens as the number of doors gets large (say 1000) and the number of doors opened is also large (say 998)\n",
    "- Use N=1000\n",
    "\n",
    "Warning: This will take a couple of minutes to run!"
   ]
  },
  {
   "cell_type": "code",
   "execution_count": 8,
   "metadata": {},
   "outputs": [
    {
     "data": {
      "image/png": "[encoded data removed]",
      "text/plain": [
       "<Figure size 432x288 with 1 Axes>"
      ]
     },
     "metadata": {
      "needs_background": "light"
     },
     "output_type": "display_data"
    }
   ],
   "source": [
    "evaluate_strategy(num_doors=1000, num_doors_to_open=998 ,N=1000)"
   ]
  },
  {
   "cell_type": "markdown",
   "metadata": {},
   "source": [
    "Again we see the same results as when running the experiment from 5(c)(large number of doors small number of doors to open). We see that as the number of doors gets very large and the doors to open also gets very large the probability of success for strategy Always Trade quickly approaches 1 while probability of success for strategy Never Trade quickly approaches 0. The probability of success for strategy Randomly Trade remains at about 0.5 as in the previous case with 3 doors. Clearly Always Trade seems to be the best strategy"
   ]
  }
 ],
 "metadata": {
  "kernelspec": {
   "display_name": "Python 3",
   "language": "python",
   "name": "python3"
  },
  "language_info": {
   "codemirror_mode": {
    "name": "ipython",
    "version": 3
   },
   "file_extension": ".py",
   "mimetype": "text/x-python",
   "name": "python",
   "nbconvert_exporter": "python",
   "pygments_lexer": "ipython3",
   "version": "3.7.1"
  }
 },
 "nbformat": 4,
 "nbformat_minor": 2
}
