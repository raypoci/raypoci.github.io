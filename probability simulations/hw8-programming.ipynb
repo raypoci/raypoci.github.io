{
 "cells": [
  {
   "cell_type": "markdown",
   "metadata": {},
   "source": [
    "# Homework 8: Programming Exercises\n",
    "\n",
    "\n"
   ]
  },
  {
   "cell_type": "markdown",
   "metadata": {},
   "source": [
    "Before you get started you might want to run the following cell (and potentially add your own import lines to it later on):"
   ]
  },
  {
   "cell_type": "code",
   "execution_count": 89,
   "metadata": {},
   "outputs": [],
   "source": [
    "import numpy as np\n",
    "from numpy.random import randint, uniform\n",
    "import matplotlib.pyplot as plt\n",
    "import collections as c"
   ]
  },
  {
   "cell_type": "markdown",
   "metadata": {},
   "source": [
    "## Exercise 1\n",
    "Each day, around midday, a long line forms at the Warren Tower Subway. People line up to get their favorite lunch options. The time (in minutes) it takes to make and sell a sub depends on the type of order, and we model it as a real number chosen uniformly and independently at random from the interval [0,15]. For simplicity, we will assume that only one order is processed at a time, and that each order is placed in the exact moment in which the previous sub is ready. \n",
    "\n",
    "Let $X$ be the random variable equal to the number of people that place an order in 15 minutes.\n",
    "\n",
    "<b>Example:</b> If the first person's sub takes 4.3 minutes to make, the second person's sub takes 7.7 minutes, and the third person's sub takes 4.475 minutes, then $X = 3$ (even if the third person's sub is not done in the 15 minute window)."
   ]
  },
  {
   "cell_type": "markdown",
   "metadata": {},
   "source": [
    "Write a function that empirically estimates $\\mathrm{Ex}(X)$. Use a sufficiently large number of trials (e.g., 10000) and have your function return the estimated value."
   ]
  },
  {
   "cell_type": "code",
   "execution_count": 182,
   "metadata": {},
   "outputs": [
    {
     "name": "stdout",
     "output_type": "stream",
     "text": [
      "2.7205\n"
     ]
    }
   ],
   "source": [
    "def estimate_expected_orders():\n",
    "    N=10000\n",
    "    total_customers=[]\n",
    "    for i in range(N):\n",
    "        customers=0\n",
    "        total_time = 0\n",
    "        while (total_time<=15):\n",
    "            sub_time = uniform(0, 15)\n",
    "            customers+=1\n",
    "            total_time+=sub_time\n",
    "        total_customers.append(customers)\n",
    "        total_time=0\n",
    "        customers=0\n",
    "    avg_customers=sum(total_customers)\n",
    "    return avg_customers/N\n",
    "\n",
    "print(estimate_expected_orders())"
   ]
  },
  {
   "cell_type": "markdown",
   "metadata": {},
   "source": [
    "## Exercise 2\n",
    "This question is about an experiment we did in the first lecture. We have seen that the following code estimates the answer to the question:\n",
    "\n",
    "> We roll a fair die repeatedly until we roll a 6. How many rolls do we expect given than all the rolls gave even numbers?"
   ]
  },
  {
   "cell_type": "code",
   "execution_count": 3,
   "metadata": {},
   "outputs": [
    {
     "data": {
      "image/png": "[encoded data removed]",
      "text/plain": [
       "<Figure size 432x288 with 1 Axes>"
      ]
     },
     "metadata": {
      "needs_background": "light"
     },
     "output_type": "display_data"
    }
   ],
   "source": [
    "def single_trial():\n",
    "    num_rolls = 0\n",
    "    while True:\n",
    "        num_rolls = num_rolls + 1\n",
    "        die_roll = randint(1, 7) #fair die roll\n",
    "        if die_roll == 1 or die_roll == 3 or die_roll == 5:\n",
    "            # restart the experiment\n",
    "            num_rolls = 0\n",
    "            continue\n",
    "        if die_roll == 6:\n",
    "            break\n",
    "    return num_rolls\n",
    "\n",
    "# perform N trials\n",
    "N = 10000\n",
    "rolls = []\n",
    "trial = [i + 1 for i in range(N)]\n",
    "for i in range(N):\n",
    "    num_rolls = single_trial()\n",
    "    rolls.append(num_rolls)\n",
    "\n",
    "avg_rolls = sum(rolls)\n",
    "avg_rolls = avg_rolls / N\n",
    "plt.bar(trial,rolls)\n",
    "plt.xlabel(\"Trial\")\n",
    "plt.ylabel(\"Number of rolls\")\n",
    "plt.title(\"average = \"  + str(avg_rolls),fontsize=20)\n",
    "plt.show()"
   ]
  },
  {
   "cell_type": "markdown",
   "metadata": {},
   "source": [
    "You now know that the above question is asking for the conditional expectation of the number of die rolls until we roll a 6, conditioned on the event that all of the rolls are 2, 4, or 6.\n",
    "\n",
    "Consider the following modified version of the above question and experiment. Instead of a fair $6$-sided die, we now have a fair $k$-sided die with the numbers $1$ through $k$ written on it. The question we are interested in is the following:\n",
    "\n",
    "> What is the expected number of rolls of the $k$-sided die until we roll a $6$, given that all the rolls are 2, 4, or 6?"
   ]
  },
  {
   "cell_type": "markdown",
   "metadata": {},
   "source": [
    "### Exercise 2(a)\n",
    "\n",
    "Write a function that takes as input an integer $k \\geq 6$ and it returns an estimate of the expected number of rolls of the $k$-sided die until we roll a 6, given that all the results are 2, 4, or 6."
   ]
  },
  {
   "cell_type": "code",
   "execution_count": 12,
   "metadata": {},
   "outputs": [],
   "source": [
    "def estimate_expected_rolls(k):\n",
    "    N=10000\n",
    "    rolls=[]\n",
    "    for i in range(N):\n",
    "        num_rolls = 0\n",
    "        while(True):\n",
    "            num_rolls = num_rolls + 1\n",
    "            die_roll = randint(1, k+1) #fair die roll\n",
    "            if die_roll != 2 and die_roll != 4 and die_roll !=6:\n",
    "                # restart the experiment\n",
    "                num_rolls = 0\n",
    "                continue\n",
    "            if die_roll == 6:\n",
    "                break\n",
    "        if(num_rolls!=0):\n",
    "            rolls.append(num_rolls)\n",
    "            \n",
    "    avg_rolls = sum(rolls)\n",
    "    avg_rolls = avg_rolls / N\n",
    "    return avg_rolls\n"
   ]
  },
  {
   "cell_type": "markdown",
   "metadata": {},
   "source": [
    "### Exercise 2(b)\n",
    "\n",
    "Next, pick some large values of $k$ and try your code."
   ]
  },
  {
   "cell_type": "code",
   "execution_count": 25,
   "metadata": {},
   "outputs": [
    {
     "data": {
      "text/plain": [
       "1.0"
      ]
     },
     "execution_count": 25,
     "metadata": {},
     "output_type": "execute_result"
    }
   ],
   "source": [
    "# Example run with k = 1000\n",
    "estimate_expected_rolls(1000)\n",
    "estimate_expected_rolls(10000)"
   ]
  },
  {
   "cell_type": "markdown",
   "metadata": {},
   "source": [
    "### Exercise 2(c)\n",
    "\n",
    "What do you think happens as $k\\to \\infty$?"
   ]
  },
  {
   "cell_type": "markdown",
   "metadata": {},
   "source": [
    "<b>Answer:</b> The experiment shows that at k=6 we expect 1.5 rolls, at k=1000 we expect 1 roll, at k=10000 we expect 1 roll and at k=100000 we expect 1 roll. Given the results of the experiments as k gets larger and larger the expected value is exactly 1. So it seems that as $k\\to \\infty$ the expected number of rolls is 1"
   ]
  },
  {
   "cell_type": "markdown",
   "metadata": {},
   "source": [
    "## Exercise 3\n",
    "\n",
    "This question is about an experiment that was recently discussed in class (see the [variance slides](https://www.dropbox.com/s/di7anfv3qc7wpxv/cs237L18.pdf?dl=0)). Consider the following two games:\n",
    "\n",
    "* <b>Game 1: </b>You toss a coin every day. Each time, with probability $1\\over 3$ you lose $1\\$$ and with probability $2 \\over 3$ you win $2 \\$$,\n",
    "\n",
    "* <b>Game 2: </b>You toss a coin every day. Each time, with probability $1\\over 3$ you lose $2001\\$$ and with probability $2 \\over 3$ you win $1002 \\$$.\n",
    "\n",
    "We saw in class that the expected winning of these games is exactly $1\\$$."
   ]
  },
  {
   "cell_type": "markdown",
   "metadata": {},
   "source": [
    "### Exercise 3 (a)\n",
    "\n",
    "Write two functions, which simulate one round of Game 1 and Game 2 respectively."
   ]
  },
  {
   "cell_type": "code",
   "execution_count": 47,
   "metadata": {},
   "outputs": [],
   "source": [
    "# Your code here\n",
    "\n",
    "def play_g1_once():\n",
    "    outcome= np.random.choice(['a','b', 'b'],1)\n",
    "    if(outcome=='a'):\n",
    "        return -1\n",
    "    else:\n",
    "        return 2\n",
    "\n",
    "def play_g2_once():\n",
    "    # runs Game 2, returns the winnings: output is either -2001 or 1002\n",
    "    outcome= np.random.choice(['a','b','b'],1)\n",
    "    if(outcome=='a'):\n",
    "        return -2001\n",
    "    else:\n",
    "        return 1002\n"
   ]
  },
  {
   "cell_type": "markdown",
   "metadata": {},
   "source": [
    "### Exercise 3 (b)\n",
    "\n",
    "Write two functions, which simulate playing Game 1 and Game 2 respectively, where we play each game once every day for a year. You will need to call the functions you wrote above."
   ]
  },
  {
   "cell_type": "code",
   "execution_count": 181,
   "metadata": {},
   "outputs": [],
   "source": [
    "# Your code here\n",
    "\n",
    "def play_for_one_year_g1():\n",
    "    # Plays Game 1 365 times, returns total winnings\n",
    "    winnings = 0\n",
    "    for i in range(365):\n",
    "        winnings += play_g1_once()\n",
    "    return winnings\n",
    "\n",
    "def play_for_one_year_g2():\n",
    "    # Plays Game 2 365 times, returns total winnings\n",
    "    winnings = 0\n",
    "    for i in range(365):\n",
    "        winnings += play_g2_once()\n",
    "    return winnings\n"
   ]
  },
  {
   "cell_type": "markdown",
   "metadata": {},
   "source": [
    "### Exercise 3 (c)\n",
    "\n",
    "Run the above functions multiple times, and plot the empirical probability distribution of the winnings resulting from playing the games for one whole year."
   ]
  },
  {
   "cell_type": "code",
   "execution_count": 211,
   "metadata": {},
   "outputs": [
    {
     "data": {
      "image/png": "[encoded data removed]",
      "text/plain": [
       "<Figure size 432x288 with 1 Axes>"
      ]
     },
     "metadata": {
      "needs_background": "light"
     },
     "output_type": "display_data"
    },
    {
     "data": {
      "image/png": "[encoded data removed]",
      "text/plain": [
       "<Figure size 432x288 with 1 Axes>"
      ]
     },
     "metadata": {
      "needs_background": "light"
     },
     "output_type": "display_data"
    }
   ],
   "source": [
    "\n",
    "def estimate_g1(n=10000):\n",
    "    # runs play_for_one_year_g1() n times and plots the empirical distribution (histogram of results)\n",
    "    total_winnings = []\n",
    "    for i in range(n):\n",
    "        winnings = play_for_one_year_g1()\n",
    "        total_winnings.append(winnings)\n",
    "    s=set(total_winnings)\n",
    "    avg_winnings = sum(total_winnings)\n",
    "    avg_winnings = avg_winnings / n\n",
    "    \n",
    "    plt.hist(total_winnings, bins=len(s), edgecolor='black', density=True)\n",
    "    plt.xlabel(\"Winnings\")\n",
    "    plt.ylabel(\"Frequency\")\n",
    "    plt.title(\"average winnings of G1= \"  + str(avg_winnings),fontsize=20)\n",
    "    plt.show()\n",
    "\n",
    "    \n",
    "\n",
    "\n",
    "def estimate_g2(n=10000):\n",
    "    # runs play_for_one_year_g2() n times and plots the empirical distribution (histogram or results)\n",
    "    total_winnings = []\n",
    "    for i in range(n):\n",
    "        winnings = play_for_one_year_g2()\n",
    "        total_winnings.append(winnings)\n",
    "    \n",
    "    s=set(total_winnings)\n",
    "    avg_winnings = sum(total_winnings)\n",
    "    avg_winnings = avg_winnings / n\n",
    "    \n",
    "    plt.hist(total_winnings, bins=len(s), edgecolor='black', density=True)\n",
    "    plt.xlabel(\"Winnings\")\n",
    "    plt.ylabel(\"Frequency\")\n",
    "    plt.title(\"average winnings of G2= \"  + str(avg_winnings),fontsize=20)\n",
    "    plt.show()\n",
    "\n",
    "estimate_g1()\n",
    "estimate_g2()\n"
   ]
  },
  {
   "cell_type": "markdown",
   "metadata": {},
   "source": [
    "## Exercise 4\n",
    "\n",
    "You invest in a stock originally worth $0\\$$. The value of the stock goes up or down by exactly $1\\$$ each day with equal probability, potentially going in the negatives. Let $S_i$ be the value of the stock on day $i$. We track the value of the stock for a year (365 days). Note that at the end of the year, the value $S_{365}$ is some integer number between -365 and 365.\n",
    "\n",
    "Let $P$ be the number of days $i$ in which $S_i >0$. Note that $P$ is some integer between 0 and 365.\n",
    "\n",
    "<b>Think:</b> what do you think the distribution of $P$ looks like?\n",
    "\n",
    "In this exercise we will answer this question via simulation."
   ]
  },
  {
   "cell_type": "markdown",
   "metadata": {},
   "source": [
    "### Exercise 4 (a)\n",
    "Write a function that gives you the increment in stock value in a day."
   ]
  },
  {
   "cell_type": "code",
   "execution_count": 74,
   "metadata": {},
   "outputs": [],
   "source": [
    "# Your code here\n",
    "\n",
    "def one_day_stock_increase():\n",
    "    outcome= np.random.choice(['a','b'],1)\n",
    "    if(outcome=='a'):\n",
    "        return -1\n",
    "    else:\n",
    "        return 1"
   ]
  },
  {
   "cell_type": "markdown",
   "metadata": {},
   "source": [
    "### Exercise 4(b)\n",
    "\n",
    "Write a function that keeps track of the value $S_i$ of the stock every day for one year, and counts the number of the day in which $S_i$ is positive."
   ]
  },
  {
   "cell_type": "code",
   "execution_count": 77,
   "metadata": {},
   "outputs": [],
   "source": [
    "# Your code here\n",
    "\n",
    "def number_of_positive_days_in_year():\n",
    "    # Simulates the stock value for a year by calling the above function 365 times \n",
    "    # and adding the new change each time.\n",
    "    # Counts and returns the value of P, the number of days in which the stock value is positive.\n",
    "    stock_value = 0\n",
    "    days_in_pos=0\n",
    "    for i in range(10):\n",
    "        change = one_day_stock_increase()\n",
    "        stock_value+= change\n",
    "        if stock_value>0:\n",
    "            days_in_pos+=1\n",
    "    return days_in_pos\n"
   ]
  },
  {
   "cell_type": "markdown",
   "metadata": {},
   "source": [
    "### Exercise 4(c)\n",
    "\n",
    "Estimate the probability distribution of $P$ by running the above function multiple times and plotting the histogram of results."
   ]
  },
  {
   "cell_type": "code",
   "execution_count": 201,
   "metadata": {},
   "outputs": [
    {
     "data": {
      "image/png": "[encoded data removed]",
      "text/plain": [
       "<Figure size 432x288 with 1 Axes>"
      ]
     },
     "metadata": {
      "needs_background": "light"
     },
     "output_type": "display_data"
    }
   ],
   "source": [
    "# Your code here\n",
    "\n",
    "def estimate_P(n=10000):\n",
    "    # runs the above function n times and plots the histogram of results\n",
    "    total_days = []\n",
    "    for i in range(n):\n",
    "        days_in_pos = number_of_positive_days_in_year()\n",
    "        total_days.append(days_in_pos)\n",
    "    avg_days = sum(total_days)\n",
    "    avg_days = avg_days / n\n",
    "    \n",
    "\n",
    "    plt.hist(total_days, bins=10, edgecolor='black', density=True)\n",
    "    plt.xlabel(\"Days in Positive\")\n",
    "    plt.ylabel(\"Frequency\")\n",
    "    plt.title(\"average days in positive= \"  + str(avg_days),fontsize=20)\n",
    "    plt.show()\n",
    "    \n",
    "estimate_P()"
   ]
  },
  {
   "cell_type": "markdown",
   "metadata": {},
   "source": [
    "<b>Think:</b> Was this the result you expected?"
   ]
  },
  {
   "cell_type": "markdown",
   "metadata": {},
   "source": [
    "<b>Answer:</b> The simulation shows that on average the stock will spend only 4 days being greater than 0. Intuitively, given that the stock can go up or down by 1 with equal probability, hence has an expectance of 0, I would have guessed that the stock spends about half of the days at 0 and then half of the remaining time split between being negative and positive, ie I was expecting an outcome of around 365/4. Due to this intuitive approach, the results of the simulation are surprising to me because the stock is spending on average only 4/365 in positive, which at first glance is much less than what I expected. In fact looking at the distribution for most trials the stock spends 0 days in positive, ie it either is 0 or in the negative. This is in fact even more surprising to the intuition. "
   ]
  }
 ],
 "metadata": {
  "kernelspec": {
   "display_name": "Python 3",
   "language": "python",
   "name": "python3"
  },
  "language_info": {
   "codemirror_mode": {
    "name": "ipython",
    "version": 3
   },
   "file_extension": ".py",
   "mimetype": "text/x-python",
   "name": "python",
   "nbconvert_exporter": "python",
   "pygments_lexer": "ipython3",
   "version": "3.7.1"
  }
 },
 "nbformat": 4,
 "nbformat_minor": 2
}
