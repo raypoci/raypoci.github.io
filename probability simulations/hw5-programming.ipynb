{
 "cells": [
  {
   "cell_type": "markdown",
   "metadata": {},
   "source": [
    "# CS 237: Homework 5 Programming Exercises\n",
    "\n",
    "## Checking your math\n",
    "\n",
    "In this jupyter notebook you will check the results you obtained in Problem 1 of the math questions (Fun with Areas)."
   ]
  },
  {
   "cell_type": "code",
   "execution_count": 4,
   "metadata": {},
   "outputs": [],
   "source": [
    "# Jupyter notebook specific \n",
    "from IPython.display import Image\n",
    "from IPython.core.display import HTML \n",
    "from IPython.display import display_html\n",
    "from IPython.display import display\n",
    "from IPython.display import Math\n",
    "from IPython.display import Latex\n",
    "from IPython.display import HTML\n",
    "\n",
    "# General useful imports\n",
    "import numpy as np\n",
    "from numpy import arange,linspace\n",
    "import matplotlib.pyplot as plt  \n",
    "from numpy.random import seed, randint, uniform, choice, shuffle\n",
    "from collections import Counter\n",
    "import pandas as pd\n",
    "%matplotlib inline"
   ]
  },
  {
   "cell_type": "markdown",
   "metadata": {},
   "source": [
    "To begin, write a function that samples a point uniformly at random from the unit square:"
   ]
  },
  {
   "cell_type": "code",
   "execution_count": 6,
   "metadata": {},
   "outputs": [],
   "source": [
    "# returns a point chosen uniformly at random from the unit square:\n",
    "def sample_point(seed=-1):\n",
    "    return uniform(0,1,2)"
   ]
  },
  {
   "cell_type": "markdown",
   "metadata": {},
   "source": [
    "Now, use the function above to esitmate the answer to part (a) through (i) of Problem 1 in the math. For each part, write a function that uses sampling to empirically estimating the probability of chosing a point from the corresponding area:"
   ]
  },
  {
   "cell_type": "code",
   "execution_count": 18,
   "metadata": {},
   "outputs": [
    {
     "name": "stdout",
     "output_type": "stream",
     "text": [
      "Probability of 1/3<X<2/3 is: 0.3349\n"
     ]
    }
   ],
   "source": [
    "def simulate_A(n_trials=10000, seed=-1):\n",
    "    frequency=0\n",
    "    for i in range(n_trials):\n",
    "        x,y = sample_point()\n",
    "        if x>(1/3) and x<(2/3):\n",
    "            frequency+=1\n",
    "    return frequency/n_trials\n",
    "    \n",
    "\n",
    "    \n",
    "print(\"Probability of 1/3 < X < 2/3 is: \" + str(simulate_A()))   "
   ]
  },
  {
   "cell_type": "code",
   "execution_count": 23,
   "metadata": {},
   "outputs": [
    {
     "name": "stdout",
     "output_type": "stream",
     "text": [
      "Probability of |X-1/2|<=1/4 is: 0.4978\n",
      "False\n"
     ]
    }
   ],
   "source": [
    "def simulate_B(n_trials=10000, seed=-1):\n",
    "    frequency=0\n",
    "    for i in range(n_trials):\n",
    "        x,y = sample_point()\n",
    "        if abs(x-(1/2))<=(1/4):\n",
    "            frequency+=1\n",
    "    return frequency/n_trials\n",
    "    \n",
    "\n",
    "    \n",
    "print(\"Probability of |X-1/2| <= 1/4 is: \" + str(simulate_B())) "
   ]
  },
  {
   "cell_type": "code",
   "execution_count": 26,
   "metadata": {},
   "outputs": [
    {
     "name": "stdout",
     "output_type": "stream",
     "text": [
      "Probability of 3X^2<X is: 0.3312\n"
     ]
    }
   ],
   "source": [
    "def simulate_C(n_trials=10000, seed=-1):\n",
    "    frequency=0\n",
    "    for i in range(n_trials):\n",
    "        x,y = sample_point()\n",
    "        if (3*(x*x))<x:\n",
    "            frequency+=1\n",
    "    return frequency/n_trials\n",
    "    \n",
    "\n",
    "    \n",
    "print(\"Probability of 3X^2 < X is: \" + str(simulate_C())) "
   ]
  },
  {
   "cell_type": "code",
   "execution_count": 30,
   "metadata": {},
   "outputs": [
    {
     "name": "stdout",
     "output_type": "stream",
     "text": [
      "Probability of |X-1/2|<=1/4 is: 0.12441\n"
     ]
    }
   ],
   "source": [
    "def simulate_D(n_trials=10000, seed=-1):\n",
    "    frequency=0\n",
    "    for i in range(n_trials):\n",
    "        x,y = sample_point()\n",
    "        if abs(x+y)<(1/2):\n",
    "            frequency+=1\n",
    "    return frequency/n_trials\n",
    "    \n",
    "\n",
    "    \n",
    "print(\"Probability of |X+Y| < 0.5 is: \" + str(simulate_D())) "
   ]
  },
  {
   "cell_type": "code",
   "execution_count": 34,
   "metadata": {},
   "outputs": [
    {
     "name": "stdout",
     "output_type": "stream",
     "text": [
      "Probability of |X-Y|<0.5 is: 0.7503\n"
     ]
    }
   ],
   "source": [
    "def simulate_E(n_trials=10000, seed=-1):\n",
    "    frequency=0\n",
    "    for i in range(n_trials):\n",
    "        x,y = sample_point()\n",
    "        if abs(x-y)<(0.5):\n",
    "            frequency+=1\n",
    "    return frequency/n_trials\n",
    "    \n",
    "\n",
    "    \n",
    "print(\"Probability of |X-Y| < 0.5 is: \" + str(simulate_E())) "
   ]
  },
  {
   "cell_type": "code",
   "execution_count": 35,
   "metadata": {},
   "outputs": [
    {
     "name": "stdout",
     "output_type": "stream",
     "text": [
      "Probability of min(X,Y)<0.5 is: 0.7535\n"
     ]
    }
   ],
   "source": [
    "def simulate_F(n_trials=10000, seed=-1):\n",
    "    frequency=0\n",
    "    for i in range(n_trials):\n",
    "        x,y = sample_point()\n",
    "        if min(x,y)<(0.5):\n",
    "            frequency+=1\n",
    "    return frequency/n_trials\n",
    "    \n",
    "\n",
    "    \n",
    "print(\"Probability of min(X,Y) < 0.5 is: \" + str(simulate_F())) "
   ]
  },
  {
   "cell_type": "code",
   "execution_count": 37,
   "metadata": {},
   "outputs": [
    {
     "name": "stdout",
     "output_type": "stream",
     "text": [
      "Probability of max(X,Y)<0.5 is: 0.2482\n"
     ]
    }
   ],
   "source": [
    "def simulate_G(n_trials=10000, seed=-1):\n",
    "    frequency=0\n",
    "    for i in range(n_trials):\n",
    "        x,y = sample_point()\n",
    "        if max(x,y)<(0.5):\n",
    "            frequency+=1\n",
    "    return frequency/n_trials\n",
    "    \n",
    "\n",
    "    \n",
    "print(\"Probability of max(X,Y) < 0.5 is: \" + str(simulate_G())) "
   ]
  },
  {
   "cell_type": "code",
   "execution_count": 41,
   "metadata": {},
   "outputs": [
    {
     "name": "stdout",
     "output_type": "stream",
     "text": [
      "Probability of X^2 + Y^2 < 0.25 is: 0.204\n"
     ]
    }
   ],
   "source": [
    "def simulate_H(n_trials=10000, seed=-1):\n",
    "    frequency=0\n",
    "    for i in range(n_trials):\n",
    "        x,y = sample_point()\n",
    "        if (x*x + y*y)<(0.25):\n",
    "            frequency+=1\n",
    "    return frequency/n_trials\n",
    "    \n",
    "\n",
    "    \n",
    "print(\"Probability of X^2 + Y^2 < 0.25 is: \" + str(simulate_H())) "
   ]
  },
  {
   "cell_type": "code",
   "execution_count": 42,
   "metadata": {},
   "outputs": [
    {
     "name": "stdout",
     "output_type": "stream",
     "text": [
      "Probability of X^2 > Y is: 0.3342\n"
     ]
    }
   ],
   "source": [
    "def simulate_I(n_trials=10000, seed=-1):\n",
    "    frequency=0\n",
    "    for i in range(n_trials):\n",
    "        x,y = sample_point()\n",
    "        if (x*x)>y:\n",
    "            frequency+=1\n",
    "    return frequency/n_trials\n",
    "    \n",
    "\n",
    "    \n",
    "print(\"Probability of X^2 > Y is: \" + str(simulate_I())) "
   ]
  }
 ],
 "metadata": {
  "kernelspec": {
   "display_name": "Python 3",
   "language": "python",
   "name": "python3"
  },
  "language_info": {
   "codemirror_mode": {
    "name": "ipython",
    "version": 3
   },
   "file_extension": ".py",
   "mimetype": "text/x-python",
   "name": "python",
   "nbconvert_exporter": "python",
   "pygments_lexer": "ipython3",
   "version": "3.7.1"
  }
 },
 "nbformat": 4,
 "nbformat_minor": 2
}
