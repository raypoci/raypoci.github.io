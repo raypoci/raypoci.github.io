{
 "cells": [
  {
   "cell_type": "markdown",
   "metadata": {},
   "source": [
    "# CS 237: Homework 2 Programming Exercises"
   ]
  },
  {
   "cell_type": "code",
   "execution_count": 1,
   "metadata": {},
   "outputs": [],
   "source": [
    "# Jupyter notebook specific \n",
    "from IPython.display import Image\n",
    "from IPython.core.display import HTML \n",
    "from IPython.display import display_html\n",
    "from IPython.display import display\n",
    "from IPython.display import Math\n",
    "from IPython.display import Latex\n",
    "from IPython.display import HTML\n",
    "\n",
    "import numpy as np                # arrays and functions which operate on array\n",
    "import matplotlib.pyplot as plt   # normal plotting\n",
    "\n",
    "from numpy.random import seed, randint, uniform\n",
    "from collections import Counter"
   ]
  },
  {
   "cell_type": "markdown",
   "metadata": {},
   "source": [
    "In the following exercises, we will use simulation to estimate the probability of certain events. Write the code to perform the simulation and print the result. Use 10,000 trials in each case."
   ]
  },
  {
   "cell_type": "markdown",
   "metadata": {},
   "source": [
    "## Exercise 1: Simulation of the Chevalier's bets\n",
    "\n",
    "In this exercise, consider the Chevalier de Mere's dice bets from lecture. Use simulation to estimate the probabilities of winning each bet, i.e., the probabilities of the following events:\n",
    "\n",
    "- The event that a 6 turns up when rolling a die 4 times\n",
    "- The event that a pair of 6s turns up when rolling two dice 24 times\n",
    "\n",
    "Print the estimated probabilities. Are your estimates close to the probabilities we calculated in class?"
   ]
  },
  {
   "cell_type": "code",
   "execution_count": 2,
   "metadata": {},
   "outputs": [
    {
     "name": "stdout",
     "output_type": "stream",
     "text": [
      "Probability of getting a 6 after rolling a die 4 times after 10,000 trials is 0.5228\n",
      "\n",
      "Probability of getting a pair of 6s after rolling dice 24 times after 10,000 trials is 0.4904\n"
     ]
    }
   ],
   "source": [
    "def roll_die_4(n_trials = 10000, seed=-1):\n",
    "    \"\"\"\n",
    "    runs 10,000 trials and records the successes of rolling a die 4 times and getting a 6\n",
    "    returns the probability calculated as #of successes/#of trials\n",
    "    \"\"\"\n",
    "    \n",
    "    num_rolls = 1\n",
    "    success=np.zeros(n_trials)\n",
    "    for i in range(n_trials):\n",
    "        while num_rolls<=4:\n",
    "            die_roll = randint(1, 7) #fair die roll\n",
    "            if die_roll == 6:\n",
    "                #stores a successful experiment as 1\n",
    "                success[i]=1\n",
    "                break\n",
    "            num_rolls += 1\n",
    "        num_rolls=1 \n",
    "    #returns the probability of getting a success over 10000 trials\n",
    "    return sum(success)/n_trials\n",
    "\n",
    "def roll_die_24(n_trials = 10000, seed=-1):\n",
    "    \"\"\"\n",
    "    runs 10,000 trials and records the successes of rolling a pair of dice 24 times and \n",
    "    getting a pair of 6s. returns the probability calculated as #of successes/#of trials\n",
    "    \"\"\"\n",
    "    \n",
    "    num_rolls = 1\n",
    "    success=np.zeros(n_trials)\n",
    "    for i in range(n_trials):\n",
    "        while num_rolls<=24:\n",
    "            die1 = randint(1, 7)\n",
    "            die2 = randint(1, 7)\n",
    "            if die1 == 6 and die2 == 6:\n",
    "                success[i]=1\n",
    "                break\n",
    "            num_rolls += 1\n",
    "        num_rolls=1 \n",
    "    return sum(success)/n_trials\n",
    "\n",
    "print(\"Probability of getting a 6 after rolling a die 4 times after 10,000 trials is \" + str(roll_die_4()))\n",
    "print()\n",
    "print(\"Probability of getting a pair of 6s after rolling dice 24 times after 10,000 trials is \" + str(roll_die_24()))\n"
   ]
  },
  {
   "cell_type": "markdown",
   "metadata": {},
   "source": [
    "**Answer:**\n",
    "    *After running an experiment for the event that a 6 turns up when rolling a die 4 times I got a 6 with probability 0.5228 which is very close to the calculated value of 0.5177.*\n",
    "    *After running an experiment for the event that a pair of 6s turns up when rolling two dice 24 times I got a pair of 6s with probability 0.4904 which is very close to the calculated value of 0.4914*"
   ]
  },
  {
   "cell_type": "markdown",
   "metadata": {},
   "source": [
    "## Exercise 2: Sums of 3 dice\n",
    "\n",
    "In this exercise, we consider another dice betting experiment that puzzled gamblers in the 1600s. Consider the experiment of rolling three dice. We are interested in the following two events: \n",
    "\n",
    "- A = \"The sum of numbers obtained is 9\"\n",
    "- B = \"The sum of the numbers obtained is 10\"\n",
    "\n",
    "Use simulation to estimate the probabilities of the two events. Print the estimated probabilities. According to your simulation, which event is more likely?"
   ]
  },
  {
   "cell_type": "code",
   "execution_count": 3,
   "metadata": {},
   "outputs": [
    {
     "name": "stdout",
     "output_type": "stream",
     "text": [
      "Probability of getting a sum of 9 after rolling 3 dice after 10,000 trials is 0.1168\n",
      "\n",
      "Probability of getting a sum of 10 after rolling 3 dice after 10,000 trials is 0.1239\n"
     ]
    }
   ],
   "source": [
    "def roll_and_sum_9(n_trials = 10000, seed=-1):\n",
    "    \"\"\"\n",
    "    records the number of successes of rolling 3 dice and getting sum of 9\n",
    "    returns the probabilty of success over 10,000 trials\n",
    "    \"\"\"\n",
    "    success=np.zeros(n_trials)\n",
    "    dice_sum = 0\n",
    "    for trials in range(n_trials):\n",
    "        #simulates rolling 3 dice by creating an array of 3 random int and summing \n",
    "        arr = randint(1,7,(3))   \n",
    "        dice_sum = np.sum(arr)\n",
    "        if dice_sum == 9:\n",
    "            success[trials]=1\n",
    "        dice_sum= 0\n",
    "    return sum(success)/n_trials\n",
    "\n",
    "def roll_and_sum_10(n_trials = 10000, seed=-1):\n",
    "    \"\"\"\n",
    "    records the number of successes of rolling 3 dice and getting sum of 10\n",
    "    returns the probabilty of success over 10,000 trials\n",
    "    \"\"\"\n",
    "    success=np.zeros(n_trials)\n",
    "    dice_sum = 0\n",
    "    for trials in range(n_trials):\n",
    "        #simulates rolling 3 dice by creating an array of 3 random int and summing \n",
    "        arr = randint(1,7,(3))   \n",
    "        dice_sum = np.sum(arr)\n",
    "        if dice_sum == 10:\n",
    "            success[trials]=1\n",
    "        dice_sum= 0\n",
    "    return sum(success)/n_trials\n",
    "\n",
    "print(\"Probability of getting a sum of 9 after rolling 3 dice after 10,000 trials is \" +str(roll_and_sum_9()))\n",
    "print()\n",
    "print(\"Probability of getting a sum of 10 after rolling 3 dice after 10,000 trials is \" +str(roll_and_sum_10()))"
   ]
  },
  {
   "cell_type": "markdown",
   "metadata": {},
   "source": [
    "The experience of gamblers in the 1600s had been that A is less likely than B. This empirical result puzzled the gamblers for the following reason. They counted the number of triples of integers from 1 to 6 with sum 9 and found it to be the same as the number of triples with sum 10. Can you explain this apparent discrepancy?"
   ]
  },
  {
   "cell_type": "markdown",
   "metadata": {},
   "source": [
    "**Answer:**\n",
    "        *After running an experiment for the event that a sum of 9 turns up when rolling 3 dice I got a 9 with probability 0.1168.*\n",
    "        *After running an experiment for the event that a sum of 10 turns up when rolling 3 dice I got a 10 with probability 0.1239.*\n",
    "        *The probabilities are very close but event B is a bit more likely because there are 27 ways to make a sum of 10 with 3 integers (with an actual probability of 0.125) while there are 25 ways to make a sum of 9 with 3 integers (and an actual probability of 0.116), hence the slight discrepancy.*\n"
   ]
  },
  {
   "cell_type": "markdown",
   "metadata": {},
   "source": [
    "## Exercise 3: Hospitals\n",
    "\n",
    "In this exercise, we consider another famous study by Tversky and Kahneman. The participants of the study were asked the following question:\n",
    "\n",
    "\"A certain town is served by two hospitals. In the larger hospital about 45 babies are born each day, and in the smaller hospital 15 babies are born each day. As you know, about 50 percent of all babies are boys. However, the exact percentage varies from day to day. Sometimes it may be higher than 50 percent, sometimes lower.\n",
    "\n",
    "For a period of 1 year, each hospital recorded the days on which more than 60 percent of the babies born were boys. Which hospital do you think recored more such days?\n",
    "\n",
    "- (a) The larger hospital\n",
    "- (b) The smaller hospital\n",
    "- (c) About the same (that is, within 5 percent of each other)\n",
    "\"\n",
    "\n",
    "For simplicity, we assume that the probability that a baby is a boy is 0.5 and the year has 365 days. Using simulation, determine which is the right answer to the question. Here a single trial simulates each hospital for 1 year."
   ]
  },
  {
   "cell_type": "code",
   "execution_count": 7,
   "metadata": {},
   "outputs": [
    {
     "name": "stdout",
     "output_type": "stream",
     "text": [
      "Average number of days for large hospital after 10,000 trials 24.6497\n",
      "Average number of days for small hospital after 10,000 trials 55.0866\n",
      "Counter of results to the question after 10,000 trials Counter({'b': 9998, 'c': 2})\n"
     ]
    }
   ],
   "source": [
    "def hospital_births(n_trials=10000, seed=-1):\n",
    "    \"\"\"NOTE takes about 5 min to run 10,000 trials on my machine\"\"\"\n",
    "    \n",
    "    \"\"\"\n",
    "    runs 10,000 trials where in each trial it simulates a year of births for both hospitals\n",
    "    for each day it records the number of boys born and if at the end of the day it is >60%\n",
    "    the day is added to the array of years. At the end of each year the number of days with >60%\n",
    "    boys per hospital is recorded for that year as well as the result to the question for that\n",
    "    specific year. Finally the arrays containing the results, relevant days for large hospital and \n",
    "    relevant days for small hospitals for each year is returned.\n",
    "    \"\"\"\n",
    "    results = []\n",
    "    large_years=[]\n",
    "    small_years=[]\n",
    "    for trial in range(n_trials):\n",
    "        large_hospital_days=[]\n",
    "        small_hospital_days=[]\n",
    "        \n",
    "        for day in range(365):\n",
    "            large_birth=[]\n",
    "            small_birth=[]\n",
    "            for i in range(45):\n",
    "                boy1 = randint(0,2)\n",
    "                if boy1 == 1:\n",
    "                    large_birth.append(boy1)\n",
    "            for j in range(15):\n",
    "                boy2 = randint(0,2)\n",
    "                if boy2 == 1:\n",
    "                    small_birth.append(boy2)\n",
    "\n",
    "            if sum(large_birth)/45>0.6:\n",
    "                large_hospital_days.append(1)\n",
    "            \n",
    "            if sum(small_birth)/15>0.6:\n",
    "                small_hospital_days.append(1)\n",
    "                \n",
    "         \n",
    "        large_years.append(sum(large_hospital_days))\n",
    "        small_years.append(sum(small_hospital_days))\n",
    "        \n",
    "        if 0.95*sum(large_hospital_days)> sum(small_hospital_days) and 1.05*sum(large_hospital_days)> sum(small_hospital_days) :\n",
    "            results.append('a')\n",
    "        elif sum(large_hospital_days)< 0.95*sum(small_hospital_days) and sum(large_hospital_days)< 1.05*sum(small_hospital_days):\n",
    "            results.append('b')\n",
    "        else:\n",
    "            results.append('c')\n",
    "                                               \n",
    "    return results, large_years, small_years\n",
    "                \n",
    "answer, large, small = hospital_births()\n",
    "\n",
    "#prints the average number of days with >60% boys for large hospital\n",
    "print(\"Average number of days for large hospital after 10,000 trials \" + str(sum(large)/len(large)))\n",
    "\n",
    "#prints the average number of days with >60% boys for large hospital\n",
    "print(\"Average number of days for small hospital after 10,000 trials \" + str(sum(small)/len(small))) \n",
    "\n",
    "#Counts the results per trial and prints them to console\n",
    "print(\"Counter of results to the question after 10,000 trials \" + str(Counter(answer)))\n",
    "    "
   ]
  },
  {
   "cell_type": "markdown",
   "metadata": {},
   "source": [
    " Does the simulation agree with your intuition? (We will not grade this answer, we only want to see how the class distribution looks like.)\n",
    " \n",
    " **Answer:**\n",
    "     *According to the results of my simulation the right answer to the question is clearly (b), the smaller hospital recorded more days in which over 60% of the babies born are boys than the larger hospital in virtually every trial, namely 9998 out of 10000. This result agrees with my intuiton since the smaller hospital has only 15 births a day as opposed to 45. The smaller number of births allows for a greater variance in the percentage of boys born. As the number of babies born each day increases we expect the probability to approach 0.5 hence the discrepancy in the percentage of boys born between 2 hospitals.*"
   ]
  },
  {
   "cell_type": "code",
   "execution_count": null,
   "metadata": {},
   "outputs": [],
   "source": []
  }
 ],
 "metadata": {
  "kernelspec": {
   "display_name": "Python 3",
   "language": "python",
   "name": "python3"
  },
  "language_info": {
   "codemirror_mode": {
    "name": "ipython",
    "version": 3
   },
   "file_extension": ".py",
   "mimetype": "text/x-python",
   "name": "python",
   "nbconvert_exporter": "python",
   "pygments_lexer": "ipython3",
   "version": "3.7.1"
  }
 },
 "nbformat": 4,
 "nbformat_minor": 2
}
