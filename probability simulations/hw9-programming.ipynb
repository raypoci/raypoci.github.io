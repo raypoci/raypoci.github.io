{
 "cells": [
  {
   "cell_type": "markdown",
   "metadata": {},
   "source": [
    "# Homework 9 Programming - Hypothesis Testing\n",
    "\n",
    "In this Jupyter notebook we take a first look at hypothesis testing. First introduced by statistician Ronald Fisher ([read the wiki](https://en.wikipedia.org/wiki/Ronald_Fisher)), hypothesis testing is a way to decide the validity of a hypothesis that is held to be true (*null hypothesis*) over an *alternative hypothesis*.\n",
    "\n",
    "Consider the following example.\n",
    "\n",
    "A company develops a new drug to treat a liver disease. The drug that is currently in use has a success rate of \n",
    "55%, i.e. every patient being treated would recover independently of others with probability 0.55. The manufacturer of the drug claims the new drug is more effective. Let $p$ be the probability with which a patient being treated with the new drug would recover. Consider the following null and alternative hypothesis:\n",
    "\n",
    "- *Null hypothesis*: The new drug works with the same probability as the old one (p=0.55),\n",
    "- *Alternative hypothesis*: The new drug works better than the old one, just like the company claims (p >0.55).\n",
    "\n",
    "We would like to determine whether the company's claim is true. Note that there are two types of errors we could make in our judgement. We may either reject the null hypothesis, when in fact it is true, or we may accept the null hypothesis, when in fact it is false. These two types of error are called *type 1 error* and *type 2 error* respectively.\n",
    "\n",
    "In order to test the company's hypothesis, MGH runs a trial, and tests the new drug on $n$ patients, and rejects the null hypothesis if the number of patients that recover is greater than or equal some number $m$ satisfying $1 \\leq m \\leq n$. Note that the number of patients that recovers is a binomial distribution with parameters $n$ and $p$ and hence, the probability of rejecting the null hypothesis, as a function of $p$ is given by:\n",
    "\n",
    "$$    p_{reject} (p) =  \\sum_{m \\leq k \\leq n} \\binom{n}{k} p^k (1-p)^{n-k}$$\n",
    "\n",
    "One should convince themselves that $p_{reject}(0.55)$ is the probability of making a type 1 error (given that the *null hypothesis* is true), and that increasing $m$ makes this quantity smaller. Intuitively, the more people we require to recover, in order to decide that the new drug is an improvement, the less likely we are that we will come to that conclusion. Therefore we would like to choose $m$ large enough to make $p_{reject}(0.55)$ small.\n",
    "\n",
    "On the other hand, if the new drug is not more effective than the old one, we would like for the test to pass (and the for the *null hypothesis* to be confirmed). Since the probability of the test passing, is given by:\n",
    "\n",
    "$$ p_{pass}(p) = 1- p_{reject}(p)$$\n",
    "\n",
    "it decreases as we increase the value of $m$.\n",
    "\n",
    "In summary, increasing the value of $m$, increases the chance of *type 2 error*, while decreasing the value of $m$ increases the chance of *type 1 error*.\n"
   ]
  },
  {
   "cell_type": "markdown",
   "metadata": {},
   "source": [
    "In this exercise we will look at how to pick a value of $m$ that works well with this trade-off."
   ]
  },
  {
   "cell_type": "markdown",
   "metadata": {},
   "source": [
    "## Part (a)\n",
    "\n",
    "Write a python function that computes the binomial coefficient $\\binom{n}{k}$. The function should return the correct answer for any positive integer $n$ and $k$ where $k \\leq n$."
   ]
  },
  {
   "cell_type": "code",
   "execution_count": 9,
   "metadata": {},
   "outputs": [],
   "source": [
    "import matplotlib.pyplot as plt"
   ]
  },
  {
   "cell_type": "code",
   "execution_count": 8,
   "metadata": {},
   "outputs": [
    {
     "name": "stdout",
     "output_type": "stream",
     "text": [
      "1715884494940.0\n"
     ]
    }
   ],
   "source": [
    "# your code here\n",
    "def binomial(n,k):\n",
    "    # returns the binomial coefficient nCk\n",
    "    num = n-k\n",
    "    fac_n = factorial(n)\n",
    "    fac_k = factorial(k)\n",
    "    fac_num = factorial(num)\n",
    "    \n",
    "    return fac_n/(fac_k*fac_num)\n",
    "\n",
    "def factorial(num):\n",
    "    #method to find the factorial of a number \n",
    "\n",
    "    factorial = 1\n",
    "    \n",
    "    if num == 0:\n",
    "        return 1\n",
    "    else:\n",
    "        for i in range(1,num + 1):\n",
    "            factorial = factorial*i\n",
    "    return factorial \n",
    "\n"
   ]
  },
  {
   "cell_type": "markdown",
   "metadata": {},
   "source": [
    "## Part (b)\n",
    "\n",
    "* Write a function that computes the probability of the test accepting the null hypothesis given fixed values of $m, n ,p$,\n",
    "* Write another function that gives the probability of the test rejecting the null hypothesis given $m, n$ and $p$. \n",
    "\n",
    "You may use part (a) and you may call the first function from the second one (and/or viceversa)."
   ]
  },
  {
   "cell_type": "code",
   "execution_count": 31,
   "metadata": {},
   "outputs": [],
   "source": [
    "# your code here\n",
    "\n",
    "def accept(n,m,p):\n",
    "    # returns the probability that k < m\n",
    "    return 1 - reject(n,m,p)\n",
    "\n",
    "def reject(n,m,p):\n",
    "    #return the probability that k >=m\n",
    "    q = 1-p\n",
    "    k = m\n",
    "    reject=0\n",
    "    while(k<=n):\n",
    "        binom = binomial(n,k)\n",
    "        \n",
    "        binom *= (p**k)*(q**(n-k))\n",
    "        reject+=binom\n",
    "        k+=1\n",
    "    return reject"
   ]
  },
  {
   "cell_type": "markdown",
   "metadata": {},
   "source": [
    "## Part (c)\n",
    "Suppose that the number of people in the trial is 100. Then: \n",
    "\n",
    "* Plot a curve that shows how the probability of type 1 error changes with the choice of $m$, for $m=1,... n$ assuming that the null hypothesis holds (in red),\n",
    "* On the same picture, plot the probability of type 2 error vs the value of $m$ in the case in which the new drug is effective with proability 0.68 (in blue).\n",
    "\n",
    "You can plot the two curves using matplotlib.pyplot. You can select the color by passing color='r' or color='b' to the plt.plot() function."
   ]
  },
  {
   "cell_type": "code",
   "execution_count": 71,
   "metadata": {},
   "outputs": [],
   "source": [
    "n = 100\n",
    "\n",
    "# your code here\n",
    "def plot_curve():\n",
    "    m=1\n",
    "    x=[]\n",
    "    type_1 = []\n",
    "    type_2 =[]\n",
    "    \n",
    "    while(m<=n):\n",
    "        prob_type_1 = reject(n,m,0.55)\n",
    "        prob_type_2 = accept(n,m,0.68)\n",
    "        x.append(m)\n",
    "        type_1.append(prob_type_1)\n",
    "        type_2.append(prob_type_2)\n",
    "        m+=1\n",
    "    plt.plot(x,type_1, color='r')\n",
    "    plt.plot(x,type_2, color='b')\n",
    "    \n"
   ]
  },
  {
   "cell_type": "code",
   "execution_count": 72,
   "metadata": {},
   "outputs": [
    {
     "data": {
      "image/png": "[encoded data removed]",
      "text/plain": [
       "<Figure size 432x288 with 1 Axes>"
      ]
     },
     "metadata": {
      "needs_background": "light"
     },
     "output_type": "display_data"
    }
   ],
   "source": [
    "plot_curve()"
   ]
  },
  {
   "cell_type": "markdown",
   "metadata": {},
   "source": [
    "## Part (d)\n",
    "\n",
    "Based on the picture above, what value of $m$ do you think would be suitable to keep both type 1 and type 2 error small at the same time?\n",
    "\n",
    "(You may assume that the company claims the new drug has 68% accuracy)"
   ]
  },
  {
   "cell_type": "markdown",
   "metadata": {},
   "source": [
    "<b>Answer:</b> It seems that type_1 error is very high when m is between 0 and 40. At 40 it starts to go down linearly until it reaches 60. At 60 it is quite low at around 0.1 and beyone m=60 it approaches 0. \n",
    "It seems that type_2 error is very low until m=60. At m=60 it begins to go up linearly until it reaches close to m=75 where it goes to 1. It seems that an ideal m is somewhere between 60 and 65, at this level type 1 and type 2 errors are both kept at a minimum. So I would recommend m=62"
   ]
  }
 ],
 "metadata": {
  "kernelspec": {
   "display_name": "Python 3",
   "language": "python",
   "name": "python3"
  },
  "language_info": {
   "codemirror_mode": {
    "name": "ipython",
    "version": 3
   },
   "file_extension": ".py",
   "mimetype": "text/x-python",
   "name": "python",
   "nbconvert_exporter": "python",
   "pygments_lexer": "ipython3",
   "version": "3.7.1"
  }
 },
 "nbformat": 4,
 "nbformat_minor": 2
}
